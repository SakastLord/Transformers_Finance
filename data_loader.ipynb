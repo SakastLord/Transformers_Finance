{
 "cells": [
  {
   "cell_type": "code",
   "execution_count": 1,
   "metadata": {},
   "outputs": [
    {
     "name": "stderr",
     "output_type": "stream",
     "text": [
      "C:\\Users\\louis\\anaconda3\\envs\\mti830\\lib\\site-packages\\pandas_datareader\\compat\\__init__.py:7: FutureWarning: pandas.util.testing is deprecated. Use the functions in the public API at pandas.testing instead.\n",
      "  from pandas.util.testing import assert_frame_equal\n"
     ]
    }
   ],
   "source": [
    "import pandas_datareader.data as web\n",
    "from datetime import datetime   \n",
    "import pandas as pd\n",
    "import numpy as np\n",
    "import matplotlib.pyplot as plt\n",
    "import os"
   ]
  },
  {
   "cell_type": "code",
   "execution_count": null,
   "metadata": {},
   "outputs": [],
   "source": []
  },
  {
   "cell_type": "code",
   "execution_count": 138,
   "metadata": {},
   "outputs": [],
   "source": [
    "\"\"\" list of s_anp_p companies \"\"\"\n",
    "s_and_p = ['MMM','ABT','ACN','ATVI','AYI','ADBE','AMD','AAP','AES',\n",
    "\t'AMG','AFL','A','APD','AKAM','ALK','ALB','ARE','ALXN','ALGN',\n",
    "\t'AGN','ADS','LNT','ALL','GOOGL','GOOG','MO','AMZN','AEE','AAL','AEP',\n",
    "\t'AXP','AIG','AMT','AMP','ABC','AME','AMGN','APH','APC.V','ADI','ANDV',\n",
    "\t'ANSS','ANTM','AON','AOS','APA','AIV','AAPL','AMAT','APTV','ADM','ARNC',\n",
    "\t'AJG','AIZ','T','ADSK','ADP','AZO','AVB','AVY','BKR','BLL','BAC','BK',\n",
    "\t'BAX','TFC','BDX','BRK.A','BBY','BIIB','BLK','HRB','BA','BWA','BXP','BSX',\n",
    "\t'BHF','BMY','AVGO','BF-B','CHRW','CA','COG','CDNS','CPB','COF','CAH','CBOE',\n",
    "\t'KMX','CCL','CAT','CBS','CNC','CNP','CTL','CERN','CF','SCHW',\n",
    "\t'CHTR','CHK','CVX','CMG','CB','CHD','CI','XEC','CINF','CTAS','CSCO','C','CFG',\n",
    "\t'CTXS','CLX','CME','CMS','KO','CTSH','CL','CMCSA','CMA','CAG','CXO','COP',\n",
    "\t'ED','STZ','COO','GLW','COST','COTY','CCI','CSRA','CSX','CMI','CVS','DHI',\n",
    "\t'DHR','DRI','DVA','DE','DAL','XRAY','DVN','DLR','DFS','DISCA','DISCK','DISH',\n",
    "\t'DG','DLTR','D','DOV','DD','DTE','DRE','DUK','DXC','ETFC','EMN','ETN',\n",
    "\t'EBAY','ECL','EIX','EW','EA','EMR','ETR','EVHC','EOG','EQT','EFX','EQIX','EQR',\n",
    "\t'ESS','EL','ES','RE','EXC','EXPE','EXPD','ESRX','EXR','XOM','FFIV','FB','FAST',\n",
    "\t'FRT','FDX','FIS','FITB','FE','FISV','FLIR','FLS','FLR','FMC','FL','F','FTV',\n",
    "\t'FBHS','BEN','FCX','GPS','GRMN','IT','GD','GE','GGP.L','GIS','GM','GPC','GILD',\n",
    "\t'GPN','GS','GT','GWW','HAL','HBI','HOG','LHX','HIG','HAS','HCA','PEAK','HP','HSIC',\n",
    "\t'HSY','HES','HPE','HLT','HOLX','HD','HON','HRL','HST','HPQ','HUM','HBAN','HII',\n",
    "\t'IDXX','INFO','ITW','ILMN','IR','INTC','ICE','IBM','INCY','IP','IPG','IFF','INTU',\n",
    "\t'ISRG','IVZ','IQV','IRM','JEC','JBHT','SJM','JNJ','JCI','JPM','JNPR','KSU','K','KEY',\n",
    "\t'KMB','KIM','KMI','KLAC','KSS','KHC','KR','LB','LH','LRCX','LEG','LEN',\n",
    "\t'LLY','LNC','LKQ','LMT','L','LOW','LYB','MTB','MAC','M','MRO','MPC','MAR','MMC','MLM',\n",
    "\t'MAS','MA','MAT','MKC','MCD','MCK','MDT','MRK','MET','MTD','MGM','CPRI','MCHP','MU',\n",
    "\t'MSFT','MAA','MHK','TAP','MDLZ','MON','MNST','MCO','MS','MOS','MSI','MYL','NDAQ',\n",
    "\t'NOV','NAVI','NTAP','NFLX','NWL','NFX','NEM','NWSA','NWS','NEE','NLSN','NKE','NI',\n",
    "\t'NBL','JWN','NSC','NTRS','NOC','NRG','NUE','NVDA','ORLY','OXY','OMC','OKE',\n",
    "\t'ORCL','PCAR','PKG','PH','PDCO','PAYX','PYPL','PNR','PBCT','PEP','PKI','PRGO','PFE',\n",
    "\t'PCG','PM','PSX','PNW','PXD','PNC','RL','PPG','PPL','PX','PFG','PG','PGR',\n",
    "\t'PLD','PRU','PEG','PSA','PHM','PVH','QRVO','PWR','QCOM','DGX','RRC','RJF','RTN','O',\n",
    "\t'RHT.V','REG','REGN','RF','RSG','RMD','RHI','ROK','COL','ROP','ROST','RCL','CRM','SBAC',\n",
    "\t'SCG','SLB','SNI','STX','SEE','SRE','SHW','SIG','SPG','SWKS','SLG','SNA','SO','LUV',\n",
    "\t'SPGI','SWK','SBUX','STT','SRCL','SYK','STI','NLOK','SYF','SNPS','SYY','TROW','TPR',\n",
    "\t'TGT','TEL','FTI','TXN','TXT','TMO','TIF','TWX','TJX','TMK.AX','TSCO','TDG','TRV',\n",
    "\t'TRIP','FOXA','FOX','TSN','UDR','ULTA','USB','UAA','UA','UNP','UAL','UNH','UPS','URI',\n",
    "\t'UTX','UHS','UNM','VFC','VLO','VAR','VTR','VRSN','VRSK','VZ','VRTX','VIAC','V','VNO',\n",
    "\t'VMC','WMT','WBA','DIS','WM','WAT','WEC','WFC','WDC','WU','WRK','WY','WHR','WMB',\n",
    "\t'WLTW','WYND','WYNN','XEL','XRX','XLNX','XL','XYL','YUM','ZBH','ZION','ZTS']\n",
    "\n",
    "\n",
    "\n",
    "s_and_p2 = ['MMM', 'AOS', 'ABT', 'ABBV', 'ABMD', 'ACN', 'ATVI', 'ADBE', 'AAP', 'AMD', 'AES', 'AFL', 'A', 'APD', 'AKAM', 'ALK', 'ALB', 'ARE', 'ALXN', 'ALGN', 'ALLE', 'ADS', 'LNT', 'ALL', 'GOOGL', 'GOOG', 'MO', 'AMZN', 'AMCR', 'AEE', 'AAL', 'AEP', 'AXP', 'AIG', 'AMT', 'AMP', 'ABC', 'AME', 'AMGN', 'APH', 'ADI', 'ANSS', 'ANTM', 'AON', 'APA', 'AIV', 'AAPL', 'AMAT', 'APTV', 'ADM', 'ANET', 'AJG', 'AIZ', 'T', 'ATO', 'ADSK', 'ADP', 'AZO', 'AVB', 'AVY', 'BKR', 'BLL', 'BAC', 'BAX', 'BDX', 'BRK-B', 'BBY', 'BIIB', 'BLK', 'BA', 'BKNG', 'BWA', 'BXP', 'BSX', 'BMY', 'AVGO', 'BR', 'BF-B', 'CHRW', 'COG', 'CDNS', 'CPB', 'COF', 'CAH', 'KMX', 'CCL', 'CARR', 'CAT', 'CBOE', 'CBRE', 'CDW', 'CE', 'CNC', 'CNP', 'CTL', 'CERN', 'CF', 'SCHW', 'CHTR', 'CVX', 'CMG', 'CB', 'CHD', 'CI', 'CINF', 'CTAS', 'CSCO', 'C', 'CFG', 'CTXS', 'CME', 'CMS', 'KO', 'CTSH', 'CL', 'CMCSA', 'CMA', 'CAG', 'CXO', 'COP', 'ED', 'STZ', 'CPRT', 'GLW', 'CTVA', 'COST', 'COTY', 'CCI', 'CSX', 'CMI', 'CVS', 'DHI', 'DHR', 'DRI', 'DVA', 'DE', 'DAL', 'XRAY', 'DVN', 'DXCM', 'FANG', 'DLR', 'DFS', 'DISCA', 'DISCK', 'DISH', 'DG', 'DLTR', 'D', 'DPZ', 'DOV', 'DOW', 'DTE', 'DUK', 'DRE', 'DD', 'DXC', 'ETFC', 'EMN', 'ETN', 'EBAY', 'ECL', 'EIX', 'EW', 'EA', 'EMR', 'ETR', 'EOG', 'EFX', 'EQIX', 'EQR', 'ESS', 'EL', 'RE', 'EVRG', 'ES', 'EXC', 'EXPE', 'EXPD', 'EXR', 'XOM', 'FFIV', 'FB', 'FAST', 'FRT', 'FDX', 'FIS', 'FITB', 'FRC', 'FE', 'FISV', 'FLT', 'FLIR', 'FLS', 'FMC', 'F', 'FTNT', 'FTV', 'FBHS', 'FOXA', 'FOX', 'BEN', 'FCX', 'GPS', 'GRMN', 'IT', 'GD', 'GE', 'GIS', 'GM', 'GPC', 'GILD', 'GPN', 'GL', 'GS', 'GWW', 'HRB', 'HAL', 'HBI', 'HOG', 'HIG', 'HAS', 'HCA', 'PEAK', 'HSIC', 'HES', 'HPE', 'HLT', 'HFC', 'HOLX', 'HD', 'HON', 'HRL', 'HST', 'HWM', 'HPQ', 'HUM', 'HBAN', 'HII', 'IEX', 'IDXX', 'INFO', 'ITW', 'ILMN', 'INCY', 'IR', 'INTC', 'ICE', 'IBM', 'IP', 'IPG', 'IFF', 'INTU', 'ISRG', 'IVZ', 'IPGP', 'IQV', 'IRM', 'JBHT', 'JKHY', 'J', 'SJM', 'JNJ', 'JCI', 'JPM', 'JNPR', 'KSU', 'K', 'KEY', 'KEYS', 'KMB', 'KIM', 'KMI', 'KLAC', 'KSS', 'KHC', 'KR', 'LB', 'LHX', 'LH', 'LRCX', 'LW', 'LVS', 'LEG', 'LDOS', 'LEN', 'LLY', 'LNC', 'LIN', 'LYV', 'LKQ', 'LMT', 'L', 'LOW', 'LYB', 'MTB', 'MRO', 'MPC', 'MKTX', 'MAR', 'MMC', 'MLM', 'MAS', 'MA', 'MXIM', 'MKC', 'MCD', 'MCK', 'MDT', 'MRK', 'MET', 'MTD', 'MGM', 'MCHP', 'MU', 'MSFT', 'MAA', 'MHK', 'TAP', 'MDLZ', 'MNST', 'MCO', 'MS', 'MSI', 'MSCI', 'MYL', 'NDAQ', 'NOV', 'NTAP', 'NFLX', 'NWL', 'NEM', 'NWSA', 'NWS', 'NEE', 'NLSN', 'NKE', 'NI', 'NBL', 'JWN', 'NSC', 'NTRS', 'NOC', 'NLOK', 'NCLH', 'NRG', 'NUE', 'NVDA', 'NVR', 'ORLY', 'OXY', 'ODFL', 'OMC', 'OKE', 'ORCL', 'OTIS', 'PCAR', 'PKG', 'PH', 'PAYX', 'PAYC', 'PYPL', 'PNR', 'PBCT', 'PEP', 'PKI', 'PRGO', 'PFE', 'PM', 'PSX', 'PNW', 'PXD', 'PNC', 'PPG', 'PPL', 'PFG', 'PG', 'PGR', 'PLD', 'PRU', 'PEG', 'PSA', 'PHM', 'PVH', 'QRVO', 'QCOM', 'PWR', 'DGX', 'RL', 'RJF', 'RTX', 'O', 'REG', 'REGN', 'RF', 'RSG', 'RMD', 'RHI', 'ROK', 'ROL', 'ROP', 'ROST', 'RCL', 'SPGI', 'CRM', 'SBAC', 'SLB', 'STX', 'SEE', 'SRE', 'NOW', 'SHW', 'SPG', 'SWKS', 'SLG', 'SNA', 'SO', 'LUV', 'SWK', 'SBUX', 'STT', 'STE', 'SYK', 'SIVB', 'SYF', 'SNPS', 'SYY', 'TMUS', 'TROW', 'TTWO', 'TPR', 'TGT', 'TEL', 'FTI', 'TFX', 'TXN', 'TXT', 'BK', 'CLX', 'COO', 'HSY', 'MOS', 'TRV', 'DIS', 'TMO', 'TIF', 'TJX', 'TSCO', 'TT', 'TDG', 'TFC', 'TWTR', 'TSN', 'USB', 'UDR', 'ULTA', 'UAA', 'UA', 'UNP', 'UAL', 'UNH', 'UPS', 'URI', 'UHS', 'UNM', 'VFC', 'VLO', 'VAR', 'VTR', 'VRSN', 'VRSK', 'VZ', 'VRTX', 'VIAC', 'V', 'VNO', 'VMC', 'WRB', 'WAB', 'WBA', 'WMT', 'WM', 'WAT', 'WEC', 'WFC', 'WELL', 'WST', 'WDC', 'WU', 'WRK', 'WY', 'WHR', 'WMB', 'WLTW', 'WYNN', 'XEL', 'XRX', 'XLNX', 'XYL', 'YUM', 'ZBRA', 'ZBH', 'ZION', 'ZTS']\n",
    "\n",
    "shit = ['FLT','AMCR', 'BRK.A', 'ARNC','FBHS', 'NWS', 'KMI', 'NLOK', 'FRC', 'TMK.AX', 'DISCK', 'VIAC', 'FB', 'NAVI', 'HLT', 'HPE', 'XYL', 'NCLH', 'DG', 'CFG', 'VRSK', 'IQV', 'CPRI', 'ZTS', 'TRIP', 'IR', 'SYF', 'FOX', 'CHTR', 'MPC', 'XL', 'SNI', 'AVGO', 'PSX', 'BHF', 'EVHC', 'HCA', 'FANG', 'OTIS', 'MON', 'CDW', 'ABBV', 'COTY', 'PX', 'INFO', 'COL', 'LW', 'LYB', 'APTV', 'QRVO', 'SCG', 'RHT.V', 'KHC', 'HII', 'CBOE', 'CSRA', 'PYPL', 'UA', 'PAYC', 'ALLE', 'WRK', 'FOXA', 'PM', 'TWTR', 'CARR', 'KEYS', 'NLSN', 'CA', 'NOW', 'V', 'HWM', 'CTVA', 'ESRX', 'DOW', 'NWSA', 'FTV', 'NFX', 'ANDV', 'ANET', 'FTNT', 'GM']\n",
    "\n",
    "sp500 = set().union(s_and_p,s_and_p2).difference(shit)\n",
    "\n",
    "\n",
    "\n",
    "currencies = ['BHD=X', 'CAD=X', 'CHF=X','CNY=X','EUR=X','GBP=X','HKD=X','INR=X','JOD=X','JPY=X',\n",
    "             'KRW=X','KWD=X','MXN=X','NOK=X','NZD=X','RUB=X','SEK=X', 'SGD=X','ZAR=X']\n",
    "\n",
    "agriculture = ['BO=F','C=F','FC=F','LC=F','LH=F','O=F','S=F','SB=F','KW=F', 'LB=F']\n",
    "metals = ['GC=F','HG=F','SI=F']\n",
    "energy = ['CL=F','HO=F','NG=F']\n",
    "\n",
    "others = ['^VIX', '^N225','^FTSE','^TNX','^GSPC','^DJI','^IXIC','^RUT', '^FCHI','^GDAXI','^HSCE','^HSI',\n",
    "         '^BVSP']"
   ]
  },
  {
   "cell_type": "code",
   "execution_count": 139,
   "metadata": {},
   "outputs": [
    {
     "data": {
      "text/plain": [
       "['^VIX',\n",
       " '^N225',\n",
       " '^FTSE',\n",
       " '^TNX',\n",
       " '^GSPC',\n",
       " '^DJI',\n",
       " '^IXIC',\n",
       " '^RUT',\n",
       " '^FCHI',\n",
       " '^GDAXI',\n",
       " '^HSCE',\n",
       " '^HSI',\n",
       " '^BVSP']"
      ]
     },
     "execution_count": 139,
     "metadata": {},
     "output_type": "execute_result"
    }
   ],
   "source": [
    "others"
   ]
  },
  {
   "cell_type": "code",
   "execution_count": 140,
   "metadata": {},
   "outputs": [
    {
     "name": "stdout",
     "output_type": "stream",
     "text": [
      "13\n"
     ]
    }
   ],
   "source": [
    "print(len(others))\n",
    "\n",
    "start_time = datetime(2004, 8 , 29)\n",
    "finish_time = datetime(2020, 6 , 23)"
   ]
  },
  {
   "cell_type": "code",
   "execution_count": 141,
   "metadata": {
    "scrolled": true
   },
   "outputs": [
    {
     "name": "stdout",
     "output_type": "stream",
     "text": [
      "the stock ^N225 has max date of 2004-08-30 00:00:00 and shape: (3869, 6)\n",
      "the stock ^TNX has max date of 2004-08-30 00:00:00 and shape: (3947, 6)\n",
      "the stock ^FCHI has max date of 2004-08-30 00:00:00 and shape: (4045, 6)\n",
      "the stock ^GDAXI has max date of 2004-08-30 00:00:00 and shape: (4012, 6)\n",
      "the stock ^HSCE has max date of 2004-08-30 00:00:00 and shape: (3865, 6)\n",
      "the stock ^HSI has max date of 2004-08-30 00:00:00 and shape: (3895, 6)\n",
      "the stock ^BVSP has max date of 2004-08-30 00:00:00 and shape: (3908, 6)\n"
     ]
    }
   ],
   "source": [
    "failed = []\n",
    "uncomplete = []\n",
    "to_delete = []\n",
    "\n",
    "begin_script = datetime.now()\n",
    "\n",
    "for stock in others:\n",
    "    \n",
    "    try:\n",
    "        \n",
    "        stock_df = web.DataReader(stock,'yahoo', start_time, finish_time)\n",
    "        \n",
    "        if stock_df.shape==(3982,6):\n",
    "            stock_df.to_csv(os.getcwd() + '\\\\data\\\\' + stock + '.csv')\n",
    "        else:\n",
    "            print('the stock ' + stock + ' has max date of ' + str(stock_df.index[0]) + ' and shape: ' + str(stock_df.shape))\n",
    "            #stock_df.to_csv(os.getcwd() + '\\\\data\\\\' + stock + '.csv')\n",
    "            uncomplete.append(stock)\n",
    "            if stock_df.index[0]>datetime(2007, 12 , 30):\n",
    "                to_delete.append(stock)\n",
    "    except:\n",
    "        failed.append(stock)\n",
    "        \n",
    "end_script = datetime.now()"
   ]
  },
  {
   "cell_type": "code",
   "execution_count": 142,
   "metadata": {
    "scrolled": true
   },
   "outputs": [
    {
     "name": "stdout",
     "output_type": "stream",
     "text": [
      "7\n"
     ]
    },
    {
     "data": {
      "text/plain": [
       "['^N225', '^TNX', '^FCHI', '^GDAXI', '^HSCE', '^HSI', '^BVSP']"
      ]
     },
     "execution_count": 142,
     "metadata": {},
     "output_type": "execute_result"
    }
   ],
   "source": [
    "print(len(uncomplete))\n",
    "uncomplete"
   ]
  },
  {
   "cell_type": "code",
   "execution_count": 143,
   "metadata": {},
   "outputs": [
    {
     "name": "stdout",
     "output_type": "stream",
     "text": [
      "It took 0:00:11.291051 to run\n"
     ]
    }
   ],
   "source": [
    "# Duration\n",
    "\n",
    "duration = end_script - begin_script\n",
    "print('It took '+ str(duration) + ' to run')"
   ]
  },
  {
   "cell_type": "code",
   "execution_count": 144,
   "metadata": {},
   "outputs": [
    {
     "name": "stdout",
     "output_type": "stream",
     "text": [
      "1\n"
     ]
    },
    {
     "data": {
      "text/plain": [
       "['^FTSE']"
      ]
     },
     "execution_count": 144,
     "metadata": {},
     "output_type": "execute_result"
    }
   ],
   "source": [
    "print(len(failed))\n",
    "failed"
   ]
  },
  {
   "cell_type": "code",
   "execution_count": 145,
   "metadata": {},
   "outputs": [
    {
     "name": "stdout",
     "output_type": "stream",
     "text": [
      "0\n"
     ]
    },
    {
     "data": {
      "text/plain": [
       "[]"
      ]
     },
     "execution_count": 145,
     "metadata": {},
     "output_type": "execute_result"
    }
   ],
   "source": [
    "print(len(to_delete))\n",
    "to_delete"
   ]
  },
  {
   "cell_type": "code",
   "execution_count": null,
   "metadata": {},
   "outputs": [],
   "source": []
  },
  {
   "cell_type": "code",
   "execution_count": 146,
   "metadata": {},
   "outputs": [],
   "source": [
    "remaining = failed\n",
    "failed = []\n",
    "uncomplete = []\n",
    "to_delete = []\n",
    "\n",
    "begin_script = datetime.now()\n",
    "\n",
    "for stock in remaining:\n",
    "    \n",
    "    try:\n",
    "        \n",
    "        stock_df = web.DataReader(stock,'yahoo', start_time, finish_time)\n",
    "        \n",
    "        if stock_df.shape==(3982,6):\n",
    "            stock_df.to_csv(os.getcwd() + '\\\\data\\\\' + stock + '.csv')\n",
    "        else:\n",
    "            print('the stock ' + stock + ' has max date of ' + str(stock_df.index[0]) + ' and shape: ' + str(stock_df.shape))\n",
    "            uncomplete.append(stock)\n",
    "            if stock_df.index[0]>datetime(2007, 12 , 30):\n",
    "                to_delete.append(stock)\n",
    "    except:\n",
    "        failed.append(stock)\n",
    "        \n",
    "end_script = datetime.now()"
   ]
  },
  {
   "cell_type": "code",
   "execution_count": 147,
   "metadata": {},
   "outputs": [
    {
     "data": {
      "text/plain": [
       "['^FTSE']"
      ]
     },
     "execution_count": 147,
     "metadata": {},
     "output_type": "execute_result"
    }
   ],
   "source": [
    "failed\n"
   ]
  },
  {
   "cell_type": "code",
   "execution_count": null,
   "metadata": {},
   "outputs": [],
   "source": []
  },
  {
   "cell_type": "code",
   "execution_count": null,
   "metadata": {},
   "outputs": [],
   "source": []
  }
 ],
 "metadata": {
  "kernelspec": {
   "display_name": "Python [conda env:mti830]",
   "language": "python",
   "name": "conda-env-mti830-py"
  },
  "language_info": {
   "codemirror_mode": {
    "name": "ipython",
    "version": 3
   },
   "file_extension": ".py",
   "mimetype": "text/x-python",
   "name": "python",
   "nbconvert_exporter": "python",
   "pygments_lexer": "ipython3",
   "version": "3.7.7"
  }
 },
 "nbformat": 4,
 "nbformat_minor": 4
}
